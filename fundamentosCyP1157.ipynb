{
  "nbformat": 4,
  "nbformat_minor": 0,
  "metadata": {
    "colab": {
      "name": "fundamentosCyP1157.ipynb",
      "provenance": [],
      "authorship_tag": "ABX9TyN46gxr1OU5wiNpoNzLU6gw",
      "include_colab_link": true
    },
    "kernelspec": {
      "name": "python3",
      "display_name": "Python 3"
    },
    "language_info": {
      "name": "python"
    }
  },
  "cells": [
    {
      "cell_type": "markdown",
      "metadata": {
        "id": "view-in-github",
        "colab_type": "text"
      },
      "source": [
        "<a href=\"https://colab.research.google.com/github/ingenierosoftware/CompYProg2022G1157/blob/main/fundamentosCyP1157.ipynb\" target=\"_parent\"><img src=\"https://colab.research.google.com/assets/colab-badge.svg\" alt=\"Open In Colab\"/></a>"
      ]
    },
    {
      "cell_type": "code",
      "metadata": {
        "colab": {
          "base_uri": "https://localhost:8080/"
        },
        "id": "JXipcwbkVdtj",
        "outputId": "a533eff8-4278-4eef-f89e-50939538a716"
      },
      "source": [
        "nombre = 'José'  # Tipo de dato String (cadena de caracteres)\n",
        "\n",
        "print( nombre )\n",
        "\n"
      ],
      "execution_count": 1,
      "outputs": [
        {
          "output_type": "stream",
          "name": "stdout",
          "text": [
            "José\n"
          ]
        }
      ]
    },
    {
      "cell_type": "markdown",
      "metadata": {
        "id": "KsyPxywRXMlj"
      },
      "source": [
        "# Tipos de dato en Python\n",
        "\n",
        "### Tipos simples\n",
        "- str  --> String cadena de caractéres.\n",
        "- int  --> Numeros enteros \n",
        "- float  --> Numeros con notación de punto flotante\n",
        "- complex --> Numeros complejos\n",
        "- bool  --> Boleano ( True o Fals)\n",
        "- byte  --> 8 bits\n",
        "\n",
        "### Tipos de datos estructurados (compuestos)\n",
        "\n",
        "\n",
        "\n",
        "- list --> Listas (Arreglos en otros leng)\n",
        "- tuple --> Listas no mutables\n",
        "- dict --> diccionarios\n",
        "- set y frozenset --> Conjuntos "
      ]
    },
    {
      "cell_type": "code",
      "metadata": {
        "colab": {
          "base_uri": "https://localhost:8080/"
        },
        "id": "GWwn-Hy9aPTE",
        "outputId": "16ea5efd-d850-44e3-ddd1-15c182e15a4a"
      },
      "source": [
        "import sys\n",
        "\n",
        "edad = 19\n",
        "print( \"Tu edad es:\",edad )  # al final de una línea de código\n",
        "# este es un comentario de linea simple\n",
        "\n",
        "\"\"\"\n",
        "Comentario de multiple línea\n",
        "En lenguaje C, C++ y Java el comentario de múltiple lunea es con \n",
        "/*  .....   */\n",
        "\n",
        "En lenguaje C, C++ y Java el comentario de una sola linea es con:\n",
        "\n",
        "//\n",
        "\n",
        "Aqui puedes explicar en prosa el segmento de un código para futura referencia.\n",
        "\n",
        "\"\"\"\n",
        "# tipos de dato numerico  int y float\n",
        "\n",
        "print ( sys.getsizeof(edad) )\n",
        "# el tipo de dato INT utiliza diferente cantida de bits segun el \n",
        "# leg de prog. por ejemplo en C utiliza 16 bits.\n",
        "\n",
        "edad = edad + 1\n",
        "print( edad )\n",
        "\n",
        "estatura = 1.56\n",
        "print( estatura )\n",
        "print( sys.getsizeof(estatura) )\n",
        "estatura = estatura + 0.1\n",
        "print( estatura )\n",
        "print( round(estatura,2) )\n",
        "\n",
        "edad += 1  # edad = edad + 1\n",
        "print( \"Tu edad es:\",edad )\n",
        "\n",
        "edad -= 1  # edad = edad - 1\n",
        "print( \"Tu edad es:\",edad )\n",
        "\n",
        "edad += 1 # vuelve a 21\n",
        "edad /= 2  # edad = edad / 2\n",
        "print( \"La mitad de tu edad es:\",edad )\n",
        "\n",
        "\n",
        "edad = 21\n",
        "# volver  a calcular la mitad de la edad pero solo dejar \n",
        "# parte entera\n",
        "edad = edad // 2\n",
        "print( \"La mitad de tu edad es:\",edad )\n",
        "\n",
        "# En la mayoria de los leng no permite operaciones entre\n",
        "# diferentes tipos de datos, en python no es el caso\n",
        "\n",
        "numero = edad / 2.0\n",
        "print( numero )\n",
        "\n",
        "numero *=  3\n",
        "print( numero ) # kjdgkasdb kahdad\n",
        "\n",
        "numero = 5.0\n",
        "numero **= 3\n",
        "print( numero )\n",
        "\n",
        "\n",
        "\n",
        "\n",
        "\n"
      ],
      "execution_count": 30,
      "outputs": [
        {
          "output_type": "stream",
          "name": "stdout",
          "text": [
            "Tu edad es: 19\n",
            "28\n",
            "20\n",
            "1.56\n",
            "24\n",
            "1.6600000000000001\n",
            "1.66\n",
            "Tu edad es: 21\n",
            "Tu edad es: 20\n",
            "La mitad de tu edad es: 10.5\n",
            "La mitad de tu edad es: 10\n",
            "5.0\n",
            "15.0\n",
            "125.0\n",
            "10.5\n"
          ]
        }
      ]
    },
    {
      "cell_type": "markdown",
      "metadata": {
        "id": "1OQeOGtqjUR3"
      },
      "source": [
        "# Tarea\n",
        "Hacer un resumen de mínimo 1 cuartilla de los origenes del lenguaje Python.\n",
        "\n",
        "- ¿Por que de su creación?\n",
        "- Características principales.\n",
        "- Diferencias con otros leng.\n",
        "\n",
        "Forma de entrega: A mano en un cuaderno, sacarle foto (Scanner) y subir la foto.\n"
      ]
    },
    {
      "cell_type": "code",
      "metadata": {
        "colab": {
          "base_uri": "https://localhost:8080/"
        },
        "id": "8KtW7UT0lsn8",
        "outputId": "b2cbe0e4-36e9-42de-9ffc-f81c9b415492"
      },
      "source": [
        "# operador modulo %\n",
        "numero = 21\n",
        "print( numero / 2 )\n",
        "print( numero // 2 )\n",
        "\n",
        "# el operador módulo da com oresultado el residuo de una division entera\n",
        "print( numero % 2 )\n",
        "\n",
        "numero = 24\n",
        "print(\"Residuo de 24 / 5:\" , numero % 5 )\n",
        "\n",
        "#operadores relacionales (logicos)\n",
        "print(\"24 es par? =\" , numero % 2 == 0)\n",
        "\n",
        "# diferencia\n",
        "print(\"24 es diferente de 23=\" , numero != 23 )\n",
        "print(\"24 es mayor que 23\", numero > 23 )\n",
        "print(\"24 es menor que 23\", numero < 23 )\n",
        "\n",
        "print(\"24 es mayor o igual que 24\", numero >= 24 )\n",
        "print(\"24 es menor o igual que 23\", numero <= 23 )\n",
        "\n",
        "\n",
        "print(\"El tipo de dato de la var numero es:\", type(numero) )\n",
        "print(\"El tipo de dato de la var numero / 2.0 es:\", type(numero/2.0) )\n",
        "\n",
        "\n"
      ],
      "execution_count": 53,
      "outputs": [
        {
          "output_type": "stream",
          "name": "stdout",
          "text": [
            "10.5\n",
            "10\n",
            "1\n",
            "Residuo de 24 / 5: 4\n",
            "24 es par? = True\n",
            "24 es diferente de 23= True\n",
            "24 es mayor que 23 True\n",
            "24 es menor que 23 False\n",
            "24 es mayor o igual que 24 True\n",
            "24 es menor o igual que 23 False\n",
            "El tipo de dato de la var numero es: <class 'int'>\n",
            "El tipo de dato de la var numero / 2.0 es: <class 'float'>\n"
          ]
        }
      ]
    },
    {
      "cell_type": "markdown",
      "metadata": {
        "id": "MaIIVAwrpgmM"
      },
      "source": [
        "# tipo de dato String (str) en Python\n",
        "\n",
        "- Se maneja como un arreglo ( tipo de dato compuesto)\n",
        "- Se puede acceder a los elementos de el string por medio del índice del caracter.\n",
        "- Mutable\n",
        "- tiene métodos útiles (potentes)\n",
        "- slicing\n"
      ]
    },
    {
      "cell_type": "code",
      "metadata": {
        "colab": {
          "base_uri": "https://localhost:8080/"
        },
        "id": "MaU6Dbi6qD48",
        "outputId": "44348880-c890-4e04-d42e-d08495c87899"
      },
      "source": [
        "nombre = 'jose' \n",
        "carrera = \"Ingeniería en computación\"\n",
        "frase = \"\"\" El conocimiento \n",
        "me persigue,....\n",
        "pero\n",
        "yo soy más rápido\n",
        "\"\"\"\n",
        "print( nombre )\n",
        "print( carrera )\n",
        "print( frase )\n",
        "\n",
        "# La funcion type de Python te devuelve el tipo de dato de una variable (o expresion)\n",
        "print( type(nombre) )\n",
        "\n",
        "paterno = str( \"Perez\" )\n",
        "print( paterno )"
      ],
      "execution_count": 55,
      "outputs": [
        {
          "output_type": "stream",
          "name": "stdout",
          "text": [
            "jose\n",
            "Ingeniería en computación\n",
            " El conocimiento \n",
            "me persigue,....\n",
            "pero\n",
            "yo soy más rápido\n",
            "\n",
            "<class 'str'>\n",
            "Perez\n"
          ]
        }
      ]
    }
  ]
}